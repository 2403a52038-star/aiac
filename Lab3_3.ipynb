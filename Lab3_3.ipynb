{
  "nbformat": 4,
  "nbformat_minor": 0,
  "metadata": {
    "colab": {
      "provenance": [],
      "authorship_tag": "ABX9TyOsQZfCDdTWJkhOTKdq6cjn",
      "include_colab_link": true
    },
    "kernelspec": {
      "name": "python3",
      "display_name": "Python 3"
    },
    "language_info": {
      "name": "python"
    }
  },
  "cells": [
    {
      "cell_type": "markdown",
      "metadata": {
        "id": "view-in-github",
        "colab_type": "text"
      },
      "source": [
        "<a href=\"https://colab.research.google.com/github/2403a52038-star/aiac/blob/main/Lab3_3.ipynb\" target=\"_parent\"><img src=\"https://colab.research.google.com/assets/colab-badge.svg\" alt=\"Open In Colab\"/></a>"
      ]
    },
    {
      "cell_type": "markdown",
      "source": [
        "Task 1:Try 3 different prompts to generate a factorial function"
      ],
      "metadata": {
        "id": "lZaNQs8cKxyc"
      }
    },
    {
      "cell_type": "markdown",
      "metadata": {
        "id": "08512fe7"
      },
      "source": [
        "# Task\n",
        "Generate a Python function to calculate the factorial of a number using 3 different prompts."
      ]
    },
    {
      "cell_type": "markdown",
      "metadata": {
        "id": "ce46259a"
      },
      "source": [
        "## Generate code with prompt 1\n",
        "\n",
        "### Subtask:\n",
        "Generate a Python function to calculate the factorial of a number using the first prompt.\n"
      ]
    },
    {
      "cell_type": "markdown",
      "metadata": {
        "id": "f61ee147"
      },
      "source": [
        "**Reasoning**:\n",
        "Generate a Python function to calculate the factorial of a non-negative integer using the first prompt.\n",
        "\n"
      ]
    },
    {
      "cell_type": "code",
      "metadata": {
        "id": "d3fafd12"
      },
      "source": [
        "# Prompt 1: Generate a Python function that calculates the factorial of a non-negative integer.\n",
        "\n",
        "def factorial(n):\n",
        "  \"\"\"Calculates the factorial of a non-negative integer.\n",
        "\n",
        "  Args:\n",
        "    n: A non-negative integer.\n",
        "\n",
        "  Returns:\n",
        "    The factorial of n.\n",
        "\n",
        "  Raises:\n",
        "    ValueError: If n is a negative integer.\n",
        "  \"\"\"\n",
        "  if not isinstance(n, int) or n < 0:\n",
        "    raise ValueError(\"Input must be a non-negative integer\")\n",
        "  if n == 0:\n",
        "    return 1\n",
        "  else:\n",
        "    return n * factorial(n-1)\n"
      ],
      "execution_count": 38,
      "outputs": []
    },
    {
      "cell_type": "markdown",
      "metadata": {
        "id": "a394d62a"
      },
      "source": [
        "## Generate code with prompt 2\n",
        "\n",
        "### Subtask:\n",
        "Generate a Python function to calculate the factorial of a number using the second prompt.\n"
      ]
    },
    {
      "cell_type": "markdown",
      "metadata": {
        "id": "57db7ddd"
      },
      "source": [
        "**Reasoning**:\n",
        "Add a new code cell with the specified comment and the Python function for calculating factorial using an iterative approach based on the second prompt.\n",
        "\n"
      ]
    },
    {
      "cell_type": "code",
      "metadata": {
        "id": "35c6e071"
      },
      "source": [
        "# Prompt 2: Generate a Python function that calculates the factorial of a non-negative integer using an iterative approach.\n",
        "\n",
        "def factorial_iterative(n):\n",
        "  \"\"\"Calculates the factorial of a non-negative integer using an iterative approach.\n",
        "\n",
        "  Args:\n",
        "    n: A non-negative integer.\n",
        "\n",
        "  Returns:\n",
        "    The factorial of n.\n",
        "\n",
        "  Raises:\n",
        "    ValueError: If n is a negative integer.\n",
        "  \"\"\"\n",
        "  if not isinstance(n, int) or n < 0:\n",
        "    raise ValueError(\"Input must be a non-negative integer\")\n",
        "  if n == 0:\n",
        "    return 1\n",
        "  else:\n",
        "    result = 1\n",
        "    for i in range(1, n + 1):\n",
        "      result *= i\n",
        "    return result"
      ],
      "execution_count": 39,
      "outputs": []
    },
    {
      "cell_type": "markdown",
      "metadata": {
        "id": "415b4b1a"
      },
      "source": [
        "## Generate code with prompt 3\n",
        "\n",
        "### Subtask:\n",
        "Generate a Python function to calculate the factorial of a number using the third prompt.\n"
      ]
    },
    {
      "cell_type": "markdown",
      "metadata": {
        "id": "c18867ad"
      },
      "source": [
        "**Reasoning**:\n",
        "Write a prompt that uses a mathematical library and generate the Python function using that prompt.\n",
        "\n"
      ]
    },
    {
      "cell_type": "code",
      "metadata": {
        "id": "eacef40d"
      },
      "source": [
        "# Prompt 3: Generate a Python function that calculates the factorial of a non-negative integer using the math module.\n",
        "\n",
        "import math\n",
        "\n",
        "def factorial_math(n):\n",
        "  \"\"\"Calculates the factorial of a non-negative integer using the math module.\n",
        "\n",
        "  Args:\n",
        "    n: A non-negative integer.\n",
        "\n",
        "  Returns:\n",
        "    The factorial of n.\n",
        "\n",
        "  Raises:\n",
        "    ValueError: If n is a negative integer.\n",
        "  \"\"\"\n",
        "  if not isinstance(n, int) or n < 0:\n",
        "    raise ValueError(\"Input must be a non-negative integer\")\n",
        "  return math.factorial(n)\n"
      ],
      "execution_count": 40,
      "outputs": []
    },
    {
      "cell_type": "markdown",
      "metadata": {
        "id": "a62fca41"
      },
      "source": [
        "## Test the functions\n",
        "\n",
        "### Subtask:\n",
        "Test each generated function with sample inputs to ensure they work correctly.\n"
      ]
    },
    {
      "cell_type": "markdown",
      "metadata": {
        "id": "3c21c31b"
      },
      "source": [
        "**Reasoning**:\n",
        "Define sample inputs and test each factorial function with these inputs, printing the results for comparison.\n",
        "\n"
      ]
    },
    {
      "cell_type": "code",
      "metadata": {
        "colab": {
          "base_uri": "https://localhost:8080/"
        },
        "id": "c0cc3797",
        "outputId": "bdaa31ab-cb52-44ae-b1fe-01dc24b55f6c"
      },
      "source": [
        "# 1. Define a list of sample non-negative integer inputs.\n",
        "sample_inputs = [0, 5, 10]\n",
        "\n",
        "# 2. and 3. Test each function and print the results.\n",
        "print(\"Testing factorial function:\")\n",
        "for n in sample_inputs:\n",
        "  result = factorial(n)\n",
        "  print(f\"  factorial({n}) = {result}\")\n",
        "\n",
        "print(\"\\nTesting factorial_iterative function:\")\n",
        "for n in sample_inputs:\n",
        "  result = factorial_iterative(n)\n",
        "  print(f\"  factorial_iterative({n}) = {result}\")\n",
        "\n",
        "print(\"\\nTesting factorial_math function:\")\n",
        "for n in sample_inputs:\n",
        "  result = factorial_math(n)\n",
        "  print(f\"  factorial_math({n}) = {result}\")\n",
        "\n",
        "# 4. Compare the outputs (implicitly done by printing side-by-side for each input)."
      ],
      "execution_count": 41,
      "outputs": [
        {
          "output_type": "stream",
          "name": "stdout",
          "text": [
            "Testing factorial function:\n",
            "  factorial(0) = 1\n",
            "  factorial(5) = 120\n",
            "  factorial(10) = 3628800\n",
            "\n",
            "Testing factorial_iterative function:\n",
            "  factorial_iterative(0) = 1\n",
            "  factorial_iterative(5) = 120\n",
            "  factorial_iterative(10) = 3628800\n",
            "\n",
            "Testing factorial_math function:\n",
            "  factorial_math(0) = 1\n",
            "  factorial_math(5) = 120\n",
            "  factorial_math(10) = 3628800\n"
          ]
        }
      ]
    },
    {
      "cell_type": "markdown",
      "metadata": {
        "id": "122dd44a"
      },
      "source": [
        "## Summary:\n",
        "\n",
        "### Data Analysis Key Findings\n",
        "\n",
        "*   Three different Python functions were successfully generated to calculate the factorial of a non-negative integer:\n",
        "    *   `factorial`: A recursive implementation.\n",
        "    *   `factorial_iterative`: An iterative implementation.\n",
        "    *   `factorial_math`: An implementation utilizing the `math.factorial` function from the `math` module.\n",
        "*   Each generated function includes input validation to ensure the input is a non-negative integer and handles the base case where the factorial of 0 is 1.\n",
        "*   Testing with sample inputs (0, 5, and 10) showed that all three functions produced the correct factorial values:\n",
        "    *   Factorial of 0: 1\n",
        "    *   Factorial of 5: 120\n",
        "    *   Factorial of 10: 3,628,800\n",
        "*   All three implementations are functionally equivalent for calculating the factorial of non-negative integers.\n",
        "\n",
        "### Insights or Next Steps\n",
        "\n",
        "*   The exercise demonstrates how different prompts can lead to variations in code implementation (recursive, iterative, built-in function).\n",
        "*   For practical applications requiring factorial calculations, using `math.factorial` is generally the most efficient and concise approach in Python.\n"
      ]
    },
    {
      "cell_type": "markdown",
      "source": [
        "Task 2:Provide a clear example input-output prompt to generate a sorting function"
      ],
      "metadata": {
        "id": "QFN8jIKxNHzn"
      }
    },
    {
      "cell_type": "code",
      "metadata": {
        "colab": {
          "base_uri": "https://localhost:8080/"
        },
        "id": "b67ff79d",
        "outputId": "63430019-b755-4299-ae2a-d173458db254"
      },
      "source": [
        "def sort_list(input_list):\n",
        "  \"\"\"Sorts a list of numbers in ascending order.\n",
        "\n",
        "  Args:\n",
        "    input_list: A list of numbers.\n",
        "\n",
        "  Returns:\n",
        "    A new list containing the numbers sorted in ascending order.\n",
        "  \"\"\"\n",
        "  return sorted(input_list)\n",
        "\n",
        "# Example usage based on the prompt:\n",
        "my_list = [3, 1, 4, 1, 5, 9, 2, 6]\n",
        "sorted_list = sort_list(my_list)\n",
        "print(sorted_list)"
      ],
      "execution_count": 42,
      "outputs": [
        {
          "output_type": "stream",
          "name": "stdout",
          "text": [
            "[1, 1, 2, 3, 4, 5, 6, 9]\n"
          ]
        }
      ]
    },
    {
      "cell_type": "markdown",
      "source": [
        "Here's an example of an input-output prompt to generate a sorting function:\n",
        "\n",
        "Input: Given a list of numbers [3, 1, 4, 1, 5, 9, 2, 6], write a Python function sort_list that sorts the list in ascending order.\n",
        "\n",
        "Expected Output: The sorted list should be [1, 1, 2, 3, 4, 5, 6, 9]."
      ],
      "metadata": {
        "id": "VCZd-8MMOVFE"
      }
    },
    {
      "cell_type": "markdown",
      "source": [
        "Task 3:Start with the vague prompt “Generate python code to calculate power bill” and\n",
        "improve it step-by-step"
      ],
      "metadata": {
        "id": "Y4dHjem2OZyX"
      }
    },
    {
      "cell_type": "code",
      "metadata": {
        "colab": {
          "base_uri": "https://localhost:8080/"
        },
        "id": "6a37f035",
        "outputId": "8bc6a98a-81a4-4bc3-e28f-73f186ca18f4"
      },
      "source": [
        "# Generate python code to calculate power bill given the electricity consumption in kWh and the cost per kWh.\n",
        "\n",
        "def calculate_power_bill(kwh_consumption, cost_per_kwh):\n",
        "  \"\"\"Calculates the power bill based on consumption and rate.\n",
        "\n",
        "  Args:\n",
        "    kwh_consumption: The amount of electricity consumed in kWh.\n",
        "    cost_per_kwh: The cost per kWh.\n",
        "\n",
        "  Returns:\n",
        "    The calculated power bill.\n",
        "  \"\"\"\n",
        "  return kwh_consumption * cost_per_kwh\n",
        "\n",
        "# Example usage:\n",
        "consumption = 150  # kWh\n",
        "rate = 0.12      # $/kWh\n",
        "bill = calculate_power_bill(consumption, rate)\n",
        "print(f\"The power bill is: ${bill:.2f}\")"
      ],
      "execution_count": 44,
      "outputs": [
        {
          "output_type": "stream",
          "name": "stdout",
          "text": [
            "The power bill is: $18.00\n"
          ]
        }
      ]
    },
    {
      "cell_type": "markdown",
      "source": [
        "This code defines a Python function called calculate_power_bill that takes two arguments: kwh_consumption (the amount of electricity used) and cost_per_kwh (the price per unit of electricity). It calculates the total bill by multiplying these two values and then prints an example of how to use the function."
      ],
      "metadata": {
        "id": "RNbTKvyfPj1T"
      }
    },
    {
      "cell_type": "markdown",
      "source": [
        "Task 4:Write structured comments to help AI generate two linked functions (e.g., login_user()\n",
        "and register_user())"
      ],
      "metadata": {
        "id": "gmweUz2mPuaR"
      }
    },
    {
      "cell_type": "code",
      "metadata": {
        "colab": {
          "base_uri": "https://localhost:8080/"
        },
        "id": "be58df82",
        "outputId": "bd873ca7-55f1-49cb-c1fd-bd88762c084b"
      },
      "source": [
        "# Demonstrate shared logic: Accessing the user_database\n",
        "\n",
        "# After registering a user\n",
        "print(\"\\nUser database after registration:\")\n",
        "print(user_database)\n",
        "\n",
        "# After a successful login (no change to database, but demonstrates access)\n",
        "print(\"\\nUser database after successful login attempt:\")\n",
        "# The database itself doesn't change on login, but the function accesses it to verify\n",
        "print(user_database)\n",
        "\n",
        "# After a failed login attempt (no change to database, but demonstrates access)\n",
        "print(\"\\nUser database after failed login attempt:\")\n",
        "# The database itself doesn't change on login, but the function accesses it to verify\n",
        "print(user_database)"
      ],
      "execution_count": 46,
      "outputs": [
        {
          "output_type": "stream",
          "name": "stdout",
          "text": [
            "\n",
            "User database after registration:\n",
            "{'test_user': 'password123_hashed'}\n",
            "\n",
            "User database after successful login attempt:\n",
            "{'test_user': 'password123_hashed'}\n",
            "\n",
            "User database after failed login attempt:\n",
            "{'test_user': 'password123_hashed'}\n"
          ]
        }
      ]
    },
    {
      "cell_type": "markdown",
      "source": [
        "This code snippet prints the current state of the user_database dictionary at different points after calling the register_user and login_user functions. It demonstrates that both functions access and potentially modify the user_database, which is their shared logic. It shows the database content after a registration and then after successful and failed login attempts to illustrate how the functions interact with the stored user data"
      ],
      "metadata": {
        "id": "dM5y8ISsQ2ll"
      }
    },
    {
      "cell_type": "markdown",
      "source": [
        "Task 5:Analyzing Prompt Specificity: Improving Temperature Conversion Function with\n",
        "Clear Instructions"
      ],
      "metadata": {
        "id": "d7YthS-BQ3mn"
      }
    },
    {
      "cell_type": "code",
      "metadata": {
        "colab": {
          "base_uri": "https://localhost:8080/"
        },
        "id": "b52d0da4",
        "outputId": "fd6a6162-56bd-4df8-e157-4f62e898e55a"
      },
      "source": [
        "# Generate python code for temperature conversion (based on vague prompt)\n",
        "\n",
        "def convert_temperature(temp, from_unit, to_unit):\n",
        "  \"\"\"Converts temperature between units (basic example).\n",
        "\n",
        "  Args:\n",
        "    temp: The temperature value.\n",
        "    from_unit: The unit to convert from (e.g., 'C', 'F').\n",
        "    to_unit: The unit to convert to (e.g., 'C', 'F').\n",
        "\n",
        "  Returns:\n",
        "    The converted temperature, or None if conversion is not supported.\n",
        "  \"\"\"\n",
        "  if from_unit == 'C' and to_unit == 'F':\n",
        "    return (temp * 9/5) + 32\n",
        "  elif from_unit == 'F' and to_unit == 'C':\n",
        "    return (temp - 32) * 5/9\n",
        "  # Add more conversions as needed\n",
        "  else:\n",
        "    return None\n",
        "\n",
        "# Example usage (assuming Celsius to Fahrenheit)\n",
        "celsius_temp = 25\n",
        "fahrenheit_temp = convert_temperature(celsius_temp, 'C', 'F')\n",
        "print(f\"{celsius_temp}°C is equal to {fahrenheit_temp}°F\")"
      ],
      "execution_count": 54,
      "outputs": [
        {
          "output_type": "stream",
          "name": "stdout",
          "text": [
            "25°C is equal to 77.0°F\n"
          ]
        }
      ]
    },
    {
      "cell_type": "markdown",
      "source": [
        "This code defines a simple Python function convert_temperature that takes a temperature value, the original unit, and the target unit as input. It currently supports converting Celsius to Fahrenheit and Fahrenheit to Celsius. The example shows how to convert 25°C to Fahrenheit."
      ],
      "metadata": {
        "id": "brvHieyCSMRU"
      }
    }
  ]
}