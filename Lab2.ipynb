{
  "nbformat": 4,
  "nbformat_minor": 0,
  "metadata": {
    "colab": {
      "provenance": [],
      "authorship_tag": "ABX9TyPH0pBJn/sDKw/Dir4G6Bwt",
      "include_colab_link": true
    },
    "kernelspec": {
      "name": "python3",
      "display_name": "Python 3"
    },
    "language_info": {
      "name": "python"
    }
  },
  "cells": [
    {
      "cell_type": "markdown",
      "metadata": {
        "id": "view-in-github",
        "colab_type": "text"
      },
      "source": [
        "<a href=\"https://colab.research.google.com/github/2403a52038-star/aiac/blob/main/Lab2.ipynb\" target=\"_parent\"><img src=\"https://colab.research.google.com/assets/colab-badge.svg\" alt=\"Open In Colab\"/></a>"
      ]
    },
    {
      "cell_type": "code",
      "execution_count": 1,
      "metadata": {
        "id": "_jEEmMiZtdSA"
      },
      "outputs": [],
      "source": []
    },
    {
      "cell_type": "markdown",
      "source": [
        "tast0: build python function to check the given number is prime or not"
      ],
      "metadata": {
        "id": "V2I9h3tZteA8"
      }
    },
    {
      "cell_type": "code",
      "metadata": {
        "colab": {
          "base_uri": "https://localhost:8080/"
        },
        "id": "a78aae39",
        "outputId": "edd53bc6-36a0-42e6-9970-f65dc4ddfbf9"
      },
      "source": [
        "def is_prime(number):\n",
        "    \"\"\"Checks if a given number is prime.\"\"\"\n",
        "    if number <= 1:\n",
        "        return False  # Numbers less than or equal to 1 are not prime\n",
        "    for i in range(2, int(number**0.5) + 1):\n",
        "        if number % i == 0:\n",
        "            return False  # If the number is divisible by any number in this range, it's not prime\n",
        "    return True  # If no divisors are found, the number is prime\n",
        "\n",
        "# Example usage\n",
        "print(is_prime(7))\n",
        "print(is_prime(10))"
      ],
      "execution_count": 2,
      "outputs": [
        {
          "output_type": "stream",
          "name": "stdout",
          "text": [
            "True\n",
            "False\n"
          ]
        }
      ]
    },
    {
      "cell_type": "markdown",
      "source": [
        "Use Gemini in Colab to write a function that filters out all negative numbers from a\n",
        "given list"
      ],
      "metadata": {
        "id": "HI17MBgOulk3"
      }
    },
    {
      "cell_type": "code",
      "metadata": {
        "colab": {
          "base_uri": "https://localhost:8080/"
        },
        "id": "d188498a",
        "outputId": "a0f1fa62-5712-4836-f1e8-fa9a0251e940"
      },
      "source": [
        "def filter_negative_numbers(input_list):\n",
        "  \"\"\"Filters out all negative numbers from a given list.\n",
        "\n",
        "  Args:\n",
        "    input_list: A list of numbers.\n",
        "\n",
        "  Returns:\n",
        "    A new list containing only the non-negative numbers from the input list.\n",
        "  \"\"\"\n",
        "  return [number for number in input_list if number >= 0]\n",
        "\n",
        "# Example usage\n",
        "my_list = [1, -2, 3, -4, 5, 0, -6]\n",
        "filtered_list = filter_negative_numbers(my_list)\n",
        "print(filtered_list)"
      ],
      "execution_count": 3,
      "outputs": [
        {
          "output_type": "stream",
          "name": "stdout",
          "text": [
            "[1, 3, 5, 0]\n"
          ]
        }
      ]
    }
  ]
}