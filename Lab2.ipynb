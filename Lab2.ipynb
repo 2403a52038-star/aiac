{
  "nbformat": 4,
  "nbformat_minor": 0,
  "metadata": {
    "colab": {
      "provenance": [],
      "authorship_tag": "ABX9TyPexWI+9c6TX8JalN3EtAmQ",
      "include_colab_link": true
    },
    "kernelspec": {
      "name": "python3",
      "display_name": "Python 3"
    },
    "language_info": {
      "name": "python"
    }
  },
  "cells": [
    {
      "cell_type": "markdown",
      "metadata": {
        "id": "view-in-github",
        "colab_type": "text"
      },
      "source": [
        "<a href=\"https://colab.research.google.com/github/2403a52038-star/aiac/blob/main/Lab2.ipynb\" target=\"_parent\"><img src=\"https://colab.research.google.com/assets/colab-badge.svg\" alt=\"Open In Colab\"/></a>"
      ]
    },
    {
      "cell_type": "code",
      "execution_count": null,
      "metadata": {
        "id": "_jEEmMiZtdSA"
      },
      "outputs": [],
      "source": []
    },
    {
      "cell_type": "markdown",
      "source": [
        "tast0: build python function to check the given number is prime or not"
      ],
      "metadata": {
        "id": "V2I9h3tZteA8"
      }
    },
    {
      "cell_type": "code",
      "metadata": {
        "colab": {
          "base_uri": "https://localhost:8080/"
        },
        "id": "a78aae39",
        "outputId": "455c9839-b3dd-4f80-d4f4-e81896ccb34a"
      },
      "source": [
        "def is_prime(number):\n",
        "    \"\"\"Checks if a given number is prime.\"\"\"\n",
        "    if number <= 1:\n",
        "        return False  # Numbers less than or equal to 1 are not prime\n",
        "    for i in range(2, int(number**0.5) + 1):\n",
        "        if number % i == 0:\n",
        "            return False  # If the number is divisible by any number in this range, it's not prime\n",
        "    return True  # If no divisors are found, the number is prime\n",
        "\n",
        "# Example usage\n",
        "print(is_prime(7))\n",
        "print(is_prime(10))"
      ],
      "execution_count": 1,
      "outputs": [
        {
          "output_type": "stream",
          "name": "stdout",
          "text": [
            "True\n",
            "False\n"
          ]
        }
      ]
    },
    {
      "cell_type": "markdown",
      "source": [],
      "metadata": {
        "id": "HI17MBgOulk3"
      }
    }
  ]
}