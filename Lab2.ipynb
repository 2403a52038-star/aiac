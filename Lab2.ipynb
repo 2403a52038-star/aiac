{
  "nbformat": 4,
  "nbformat_minor": 0,
  "metadata": {
    "colab": {
      "provenance": [],
      "authorship_tag": "ABX9TyNZdUXidK414YE5Sl3P4oFJ",
      "include_colab_link": true
    },
    "kernelspec": {
      "name": "python3",
      "display_name": "Python 3"
    },
    "language_info": {
      "name": "python"
    }
  },
  "cells": [
    {
      "cell_type": "markdown",
      "metadata": {
        "id": "view-in-github",
        "colab_type": "text"
      },
      "source": [
        "<a href=\"https://colab.research.google.com/github/2403a52038-star/aiac/blob/main/Lab2.ipynb\" target=\"_parent\"><img src=\"https://colab.research.google.com/assets/colab-badge.svg\" alt=\"Open In Colab\"/></a>"
      ]
    },
    {
      "cell_type": "code",
      "execution_count": 17,
      "metadata": {
        "id": "_jEEmMiZtdSA"
      },
      "outputs": [],
      "source": []
    },
    {
      "cell_type": "markdown",
      "source": [
        "task0: build python function to check the given number is prime or not"
      ],
      "metadata": {
        "id": "V2I9h3tZteA8"
      }
    },
    {
      "cell_type": "code",
      "metadata": {
        "colab": {
          "base_uri": "https://localhost:8080/"
        },
        "id": "a78aae39",
        "outputId": "5b15742c-31e6-40c1-cd6e-775549528ce7"
      },
      "source": [
        "def is_prime(number):\n",
        "    \"\"\"Checks if a given number is prime.\"\"\"\n",
        "    if number <= 1:\n",
        "        return False  # Numbers less than or equal to 1 are not prime\n",
        "    for i in range(2, int(number**0.5) + 1):\n",
        "        if number % i == 0:\n",
        "            return False  # If the number is divisible by any number in this range, it's not prime\n",
        "    return True  # If no divisors are found, the number is prime\n",
        "\n",
        "# Example usage\n",
        "print(is_prime(7))\n",
        "print(is_prime(10))"
      ],
      "execution_count": 18,
      "outputs": [
        {
          "output_type": "stream",
          "name": "stdout",
          "text": [
            "True\n",
            "False\n"
          ]
        }
      ]
    },
    {
      "cell_type": "markdown",
      "source": [
        "Task 1: Use Gemini in Colab to write a function that filters out all negative numbers from a\n",
        "given list"
      ],
      "metadata": {
        "id": "HI17MBgOulk3"
      }
    },
    {
      "cell_type": "code",
      "metadata": {
        "colab": {
          "base_uri": "https://localhost:8080/"
        },
        "id": "d188498a",
        "outputId": "60e37e06-7667-43e1-a076-a5cf59b46539"
      },
      "source": [
        "def filter_negative_numbers(input_list):\n",
        "  \"\"\"Filters out all negative numbers from a given list.\n",
        "\n",
        "  Args:\n",
        "    input_list: A list of numbers.\n",
        "\n",
        "  Returns:\n",
        "    A new list containing only the non-negative numbers from the input list.\n",
        "  \"\"\"\n",
        "  return [number for number in input_list if number >= 0]\n",
        "\n",
        "# Example usage\n",
        "my_list = [1, -2, 3, -4, 5, 0, -6]\n",
        "filtered_list = filter_negative_numbers(my_list)\n",
        "print(filtered_list)"
      ],
      "execution_count": 19,
      "outputs": [
        {
          "output_type": "stream",
          "name": "stdout",
          "text": [
            "[1, 3, 5, 0]\n"
          ]
        }
      ]
    },
    {
      "cell_type": "markdown",
      "source": [
        "the code in cell d18898a defines a function called filter_negative_numbers that takes a list of numbers as input and returns a new list containing only the non-negative numbers from the input list. It uses a list comprehension to efficiently iterate through the input list and include only those numbers that are greater than or equal to 0 in the new list."
      ],
      "metadata": {
        "id": "nnp2LovG8hTx"
      }
    },
    {
      "cell_type": "markdown",
      "source": [
        "Task 2: Ask Gemini to generate code that reads a text file and counts the frequency of each\n",
        "word. Then ask it to explain the code."
      ],
      "metadata": {
        "id": "kKXYIZnM8kai"
      }
    },
    {
      "cell_type": "markdown",
      "metadata": {
        "id": "bfdd6a09"
      },
      "source": [
        "### Code to count word frequency\n",
        "\n",
        "The following code defines a function `count_word_frequency` that takes a file path as input, reads the text file, and returns a dictionary containing the frequency of each word."
      ]
    },
    {
      "cell_type": "code",
      "metadata": {
        "colab": {
          "base_uri": "https://localhost:8080/"
        },
        "id": "be390b12",
        "outputId": "c5fa7707-a385-4aae-a53a-2ee8efe91732"
      },
      "source": [
        "import re\n",
        "from collections import Counter\n",
        "\n",
        "def count_word_frequency(file_path):\n",
        "  \"\"\"\n",
        "  Reads a text file and counts the frequency of each word.\n",
        "\n",
        "  Args:\n",
        "    file_path: The path to the text file.\n",
        "\n",
        "  Returns:\n",
        "    A dictionary where keys are words and values are their frequencies.\n",
        "  \"\"\"\n",
        "  try:\n",
        "    with open(file_path, 'r', encoding='utf-8') as file:\n",
        "      text = file.read().lower() # Read file and convert to lowercase\n",
        "      # Remove punctuation and split into words\n",
        "      words = re.findall(r'\\b\\w+\\b', text)\n",
        "      # Count word frequencies\n",
        "      word_counts = Counter(words)\n",
        "      return word_counts\n",
        "  except FileNotFoundError:\n",
        "    return f\"Error: File not found at {file_path}\"\n",
        "  except Exception as e:\n",
        "    return f\"An error occurred: {e}\"\n",
        "\n",
        "# Example usage (replace 'your_text_file.txt' with your file path)\n",
        "# Create a dummy file for demonstration\n",
        "with open('your_text_file.txt', 'w') as f:\n",
        "    f.write(\"This is a sample text file. This file is for demonstrating word frequency counting.\")\n",
        "\n",
        "file_path = 'your_text_file.txt'\n",
        "word_frequencies = count_word_frequency(file_path)\n",
        "print(word_frequencies)"
      ],
      "execution_count": 20,
      "outputs": [
        {
          "output_type": "stream",
          "name": "stdout",
          "text": [
            "Counter({'this': 2, 'is': 2, 'file': 2, 'a': 1, 'sample': 1, 'text': 1, 'for': 1, 'demonstrating': 1, 'word': 1, 'frequency': 1, 'counting': 1})\n"
          ]
        }
      ]
    },
    {
      "cell_type": "markdown",
      "source": [
        "This code defines a function count_word_frequency that reads a text file, converts the content to lowercase, extracts words using a regular expression, and then uses the Counter class to count the occurrences of each word, returning a dictionary of word frequencies. It also includes error handling for file operations."
      ],
      "metadata": {
        "id": "ucRrJXf9-x13"
      }
    },
    {
      "cell_type": "markdown",
      "source": [],
      "metadata": {
        "id": "9eE1dKBN-zTo"
      }
    },
    {
      "cell_type": "markdown",
      "source": [
        "Task 3:Use Cursor AI to generate a Python class called Book with attributes title, author, and\n",
        "a method summary() that prints the details"
      ],
      "metadata": {
        "id": "Ssil7oHp-09a"
      }
    },
    {
      "cell_type": "code",
      "metadata": {
        "colab": {
          "base_uri": "https://localhost:8080/"
        },
        "id": "1498c2ba",
        "outputId": "d85656d9-4714-4406-a937-75caf868f23c"
      },
      "source": [
        "class Book:\n",
        "  \"\"\"Represents a book with a title and author.\"\"\"\n",
        "\n",
        "  def __init__(self, title, author):\n",
        "    \"\"\"Initializes a new Book object.\"\"\"\n",
        "    self.title = title\n",
        "    self.author = author\n",
        "\n",
        "  def summary(self):\n",
        "    \"\"\"Prints the title and author of the book.\"\"\"\n",
        "    print(f\"Title: {self.title}\")\n",
        "    print(f\"Author: {self.author}\")\n",
        "\n",
        "# Example usage\n",
        "my_book = Book(\"The Hitchhiker's Guide to the Galaxy\", \"Douglas Adams\")\n",
        "my_book.summary()"
      ],
      "execution_count": 21,
      "outputs": [
        {
          "output_type": "stream",
          "name": "stdout",
          "text": [
            "Title: The Hitchhiker's Guide to the Galaxy\n",
            "Author: Douglas Adams\n"
          ]
        }
      ]
    },
    {
      "cell_type": "markdown",
      "source": [
        "This code defines a Python class called Book. It has an __init__ method to set the title and author when you create a book object, and a summary() method that prints the book's title and author. The example usage shows how to create a Book object and call its summary method"
      ],
      "metadata": {
        "id": "k7WMOCQx_U-6"
      }
    },
    {
      "cell_type": "markdown",
      "source": [
        "Task 4:Ask Gemini to write a program that checks whether a number is an Armstrong\n",
        "number, and then modify it using Cursor AI to improve performance or structure"
      ],
      "metadata": {
        "id": "H3okoQJe_WMS"
      }
    },
    {
      "cell_type": "markdown",
      "metadata": {
        "id": "3756d548"
      },
      "source": [
        "### Armstrong Number Check - Initial Version\n",
        "\n",
        "The following code defines a function to check if a number is an Armstrong number."
      ]
    },
    {
      "cell_type": "code",
      "metadata": {
        "colab": {
          "base_uri": "https://localhost:8080/"
        },
        "id": "b4d4b2fc",
        "outputId": "bfe61b3d-5857-492e-8c89-4ba560f09089"
      },
      "source": [
        "def is_armstrong_number(number):\n",
        "  \"\"\"Checks if a number is an Armstrong number.\"\"\"\n",
        "  # Convert the number to a string to easily get the number of digits\n",
        "  num_str = str(number)\n",
        "  num_digits = len(num_str)\n",
        "  sum_of_powers = 0\n",
        "  # Calculate the sum of digits raised to the power of the number of digits\n",
        "  for digit in num_str:\n",
        "    sum_of_powers += int(digit) ** num_digits\n",
        "\n",
        "  # Check if the sum is equal to the original number\n",
        "  return sum_of_powers == number\n",
        "\n",
        "# Example usage\n",
        "print(f\"Is 153 an Armstrong number? {is_armstrong_number(153)}\")\n",
        "print(f\"Is 9 an Armstrong number? {is_armstrong_number(9)}\")\n",
        "print(f\"Is 10 an Armstrong number? {is_armstrong_number(10)}\")"
      ],
      "execution_count": 22,
      "outputs": [
        {
          "output_type": "stream",
          "name": "stdout",
          "text": [
            "Is 153 an Armstrong number? True\n",
            "Is 9 an Armstrong number? True\n",
            "Is 10 an Armstrong number? False\n"
          ]
        }
      ]
    },
    {
      "cell_type": "markdown",
      "source": [
        "This code defines a function is_armstrong_number that checks if a number is an Armstrong number. It does this by converting the number to a string, calculating the number of digits, and then summing each digit raised to the power of the number of digits. Finally, it compares this sum to the original number."
      ],
      "metadata": {
        "id": "dBFfCCaz_3rV"
      }
    },
    {
      "cell_type": "markdown",
      "source": [
        "Task 5:Use both Gemini and Cursor AI to generate code for sorting a list of dictionaries by a\n",
        "specific key (e.g., age)."
      ],
      "metadata": {
        "id": "WEbr91jn_5_o"
      }
    },
    {
      "cell_type": "code",
      "metadata": {
        "colab": {
          "base_uri": "https://localhost:8080/"
        },
        "id": "bb60ed7a",
        "outputId": "f6856349-dbe5-4669-f405-1296635734b8"
      },
      "source": [
        "def sort_list_of_dicts(list_of_dicts, key_to_sort_by):\n",
        "  \"\"\"Sorts a list of dictionaries by a specific key.\n",
        "\n",
        "  Args:\n",
        "    list_of_dicts: The list of dictionaries to sort.\n",
        "    key_to_sort_by: The key to sort the dictionaries by.\n",
        "\n",
        "  Returns:\n",
        "    A new list of dictionaries sorted by the specified key.\n",
        "  \"\"\"\n",
        "  return sorted(list_of_dicts, key=lambda x: x[key_to_sort_by])\n",
        "\n",
        "# Example usage\n",
        "data = [\n",
        "    {'name': 'Alice', 'age': 30},\n",
        "    {'name': 'Bob', 'age': 25},\n",
        "    {'name': 'Charlie', 'age': 35}\n",
        "]\n",
        "\n",
        "sorted_data = sort_list_of_dicts(data, 'age')\n",
        "print(sorted_data)\n",
        "\n",
        "sorted_data_by_name = sort_list_of_dicts(data, 'name')\n",
        "print(sorted_data_by_name)"
      ],
      "execution_count": 23,
      "outputs": [
        {
          "output_type": "stream",
          "name": "stdout",
          "text": [
            "[{'name': 'Bob', 'age': 25}, {'name': 'Alice', 'age': 30}, {'name': 'Charlie', 'age': 35}]\n",
            "[{'name': 'Alice', 'age': 30}, {'name': 'Bob', 'age': 25}, {'name': 'Charlie', 'age': 35}]\n"
          ]
        }
      ]
    },
    {
      "cell_type": "markdown",
      "source": [
        "This code defines a function sort_list_of_dicts that takes a list of dictionaries and a key as input. It uses the sorted() function with a lambda function as the key to sort the list of dictionaries based on the values associated with the specified key in each dictionary. It returns a new sorted list"
      ],
      "metadata": {
        "id": "UUX_3go6ALjx"
      }
    }
  ]
}